{
 "cells": [
  {
   "cell_type": "markdown",
   "metadata": {
    "colab_type": "text",
    "id": "8Q0-XVZi8V7P"
   },
   "source": [
    "# Hands-on 1: Campanha 0\n",
    "\n",
    "\n",
    "## Objetivos\n",
    " - Investigar o comportamento de diferentes camadas físicas do Wi-Fi com o algoritmos padrão de adaptação de taxa;\n",
    " - Definir a camada física que iremos adotar para os próximos experimentos;\n",
    " - Gerar um gráfico Throughput vs. Distância para cada padrão (uma linha para cada).\n",
    "\n",
    "### Instruções para o hands-on\n",
    " - Usar uma adaptação do rate-adaptation-distance.cc, feito para várias camadas PHY do Wi-Fi. Verificar se a taxa está sendo adaptada de maneira correta;\n",
    " - Gerar um gráfico Throughput vs. Distância (0, 50m, 100m, 150m, 200m e 250m).\n",
    " - Fazer um breve texto sobre cada camada PHY e quais funcionalidades estão implementadas no ns-3;\n",
    " - Só fazer para camadas PHY que tenham o algoritmo de Rate Adaptation implementado;\n",
    " - Explorar o máximo de configurações possíveis de cada camada PHY, por exemplo: channel bouning MIMO, tempo de guarda reduzido (TGI).\n",
    "\n",
    "\n",
    "### Divisão de Tarefas\n",
    "\n",
    "**802.11a** - **Equipe de execução:** Ravan Oliveira (ravan@ufrn.edu.br) e Malco Dantas (malco@ufrn.edu.br);\n",
    "\n",
    "**802.11b** - **Equipe de execução:** Ravan Oliveira (ravan@ufrn.edu.br) e Malco Dantas (malco@ufrn.edu.br);\n",
    "\n",
    "**802.11g** - **Equipe de execução:** Lucas Ismael (lucasismael.gppcom@ufrn.edu.br) e Mateus Batista (mateus.gppcom@ufrn.edu.br);\n",
    "\n",
    "**802.11n** - **Equipe de execução:** Lucas Ismael (lucasismael.gppcom@ufrn.edu.br) e Mateus Batista (mateus.gppcom@ufrn.edu.br);\n",
    "\n",
    "**802.11ac** - **Equipe de execução:** Jéssika Cristina (jessie@ufrn.edu.br);\n",
    "\n",
    "**802.11ax** - **Equipe de execução:** Daniel Flor (danielflor@ufrn.edu.br).\n",
    "\n",
    "**Equipe de revisão:** Daniel Luna (danielro@ufrn.edu.br) e Prof. Vicente Sousa (vicente.sousa@ufrn.edu.br) - **Prazo:** 28/05/2019.\n",
    "\n",
    "#### Versões desse tutorial:\n",
    "- ns-3: 3.29;\n",
    "\n",
    "#### Ultima atualização: 07/2019\n"
   ]
  },
  {
   "cell_type": "markdown",
   "metadata": {
    "colab_type": "text",
    "id": "yb9KX_pn8V7a"
   },
   "source": [
    "## Análise Wifi padrão 802.11a"
   ]
  },
  {
   "cell_type": "markdown",
   "metadata": {
    "colab_type": "text",
    "id": "zgYMKfOH8nBm"
   },
   "source": [
    "## Análise Wifi padrão 802.11b"
   ]
  },
  {
   "cell_type": "markdown",
   "metadata": {},
   "source": [
    "## Análise Wifi padrão 802.11g"
   ]
  },
  {
   "cell_type": "markdown",
   "metadata": {},
   "source": [
    "## Análise Wifi padrão 802.11n"
   ]
  },
  {
   "cell_type": "markdown",
   "metadata": {},
   "source": [
    "### Análise High Throughput (HT)"
   ]
  },
  {
   "cell_type": "markdown",
   "metadata": {},
   "source": [
    "Um dos requisitos para o padrão do Wifi 802.11n é o suporte ao HT (High Throughput). Nesse sentido, há um exemplo no simulador localizado no diretório *~/ns-allinone-3.29/ns-3.29/examples/wireless* chamado \"ht-wifi-network.cc\", o objetivo desse exemplo é simular o tráfego entre **um** *Access Point* (AP) e **uma** estação (STA) distantes apenas **1** m, variando três parâmetros: \n",
    "\n",
    "1) Modulação e Esquema de Codificação (*Modulation and Coding Scheme - MCS*);\n",
    "\n",
    "2) Largura de Banda (*Channel width*) e; \n",
    "\n",
    "3) Curto Intervalo de Guarda (*Short Guard Interval - Short GI*)\n",
    "\n",
    "Copiando o exemplo e o colocando na pasta *~/ns-allinone-3.29/ns-3.29/scratch*, em seguida, utilizando o comando no terminal *./waf --run scratch/ht-wifi-network*, tem-se o seguinte output:\n",
    "\n",
    "![main](FIGS/fig:ht1.png)\n",
    "\n",
    "Note que o *throughput* aumenta quanto maior o valor de *MCS*, de *Channel Width* e o uso do *Short GI*.\n",
    "\n",
    "#### Código\n",
    "\n",
    "Primeiramente, as principais variáveis de configuração são definidas, são elas:\n",
    "\n",
    "![main](FIGS/fig:ht2.png)\n",
    "\n",
    "1) A variável *udp* é definida como **true**: pode ser mudada para TCP, caso seja necessário;\n",
    "\n",
    "2) A variável *useRts* é definida como **false**: não é feito o uso do RTS/CST na simulação (talvez seja necessário taguear os pacotes (feature ainda não testada)); \n",
    "\n",
    "3) A variável *simulationTime* tem valor **10**: são simulados apenas 10 segundos, valor pode ser alterado, caso necessário;\n",
    "\n",
    "4) A variável *distance* tem valor **1**: distância entre os nós é de apenas 1 m, valor pode ser alterado, caso necessário;\n",
    "\n",
    "5) A variável *frequency* tem valor **5**: frequência de transmissão é de 5 GHz, outr valor é 2.4GHz;\n",
    "\n",
    "6) A variável *mcs* tem valor **-1**: caso seja necessário simular apenas um MCS específico, necessário apenas alterar para o valor desejado, caso queira simular para todos, deixar -1;\n",
    "\n",
    "7) A variável *minExpectedThroughput* tem valor **0**: utilizado para chamar uma mensagem de erro nos casos de throughput mínimo (mcs == 0 && channelWidth == 20 && sgi == 0);\n",
    "\n",
    "8) A variável *maxExpectedThroughput* tem valor **0**: utilizado para chamar uma mensagem de erro nos casos de throughput máximo (mcs == 7 && channelWidth == 40 && sgi == 1).\n",
    "\n",
    "\n",
    "Como apenas 3 parâmetros variam, é natural pensar que são utilizados 3 laços *for* ou *while* de interação. Nesse caso, os laços se encontram nas linhas 102, 106 e 108, conforme mostrado na figura:\n",
    "\n",
    "![main](FIGS/fig:ht3.png)\n",
    "\n",
    "Em seguida, os dois nós devem ser instaciados e criados, um para o AP e outro para a STA:\n",
    "\n",
    "![main](FIGS/fig:ht4.png)\n",
    "\n",
    "Os objetos do módulo wifi devem ser instanciados e seus principais atributos devem ser definidos. Nas linhas de código mostradas abaixo, é mostrado como isso deve ser feito para as camadas PHY e MAC do Wifi.\n",
    "\n",
    "Para a camada PHY, um objeto *phy* deve ser instanciado por *WifiPhyHelper*, nesse caso é utilizado o *YansWifiPhyHelper*. O objeto *phy* criado recebe dois atributos: o canal e o tipo de intervalo de guarda. A atribuição desses valores é feito pelos métodos *.SetChannel* e *.Set*. \n",
    "\n",
    "Mais informações sobre os WifiPhyHelpers podem ser encontrados na documentação: [aqui](https://www.nsnam.org/docs/release/3.29/doxygen/classns3_1_1_yans_wifi_phy_helper.html#a3ca9106a6f1193b8480408732c9dfe0b) e [aqui](https://www.nsnam.org/docs/release/3.29/doxygen/classns3_1_1_wifi_phy_helper.html).\n",
    "\n",
    "Em seguida, o padrão wifi é definido, nesse caso o 802.11n.\n",
    "Também é instanciado um objeto chamado *mac* do WifiMacHelper e um objeto chamado wifi do *Wifihelper*. O segundo é utilizado para definir o valor de MCS utilizado nessa iteração e a taxa bitrate constante por meio do método *.SetRemoteStationManager*. Por fim, o SSID é definido.\n",
    "\n",
    "![main](FIGS/fig:ht5-1.png)\n",
    "\n",
    "Na trecho de código abaixo, é mostrado como o objeto wifi por meio do método *.Install* relaciona o nó com as configurações de camadas PHY e MAC. Note que para isso é necessário criar um novo objeto do tipo *NetDeviceContainer*. Note também que as diferenças entre o STA e o AP estão presentes apenas na camada MAC. Por fim, é definido a largura de banda.\n",
    "\n",
    "![main](FIGS/fig:ht6-1.png)\n",
    "\n",
    "O trecho de código abaixo insere a posição dos nós no espaço e caso fosse necessário, um modelo de mobilidade poderia sr inserido.\n",
    "\n",
    "![main](FIGS/fig:ht7.png)\n",
    "\n",
    "As linhas de código abaixo mostram a inserção da pilha de protocolos TCP/IP e os endereços IP e máscara de rede em cada nó. Note que para isso são usados três objetos de *helpers* diferentes, são eles: InternetStackHelper, Ipv4AddressHelper e Ipv4InterfaceContainer. \n",
    "\n",
    "![main](FIGS/fig:ht8.png)\n",
    "\n",
    "Nas linhas abaixo são definidos o tipo de aplicação, nesse caso o *default* é o uso do **UDP**. Mais detalhes podem ser encontrados nos hands-on da fase 01 desse treinamento.\n",
    "\n",
    "![main](FIGS/fig:ht9.png)\n",
    "\n",
    "A tabela de roteamento e a informação em que momento a simulação deve ser finalizado é definida na linha *Simulator::Stop*. A linha *Simulator::Run* indica que a simulação pode começar.\n",
    "\n",
    "![main](FIGS/fig:ht10.png)\n",
    "\n",
    "Em seguida, o throughput é calculado com base na variável rxBytes. Finalizado, tem-se duas linhas *Simulator::Destroy()* é utilizado para apagar e desalocar a memória das variáveis usadas, a segunda linha é um std::cout informando qual foi o resultado final da simulação.\n",
    "\n",
    "![main](FIGS/fig:ht11.png)\n",
    "\n",
    "\n",
    "É importante notar que como todo esses trechos de código estão dentro dos três laços *for*, esse procedimento repete-se para cada combinação diferente de MCS (8 valores), Channel Width (2 valores) e Short GI (2 valores)."
   ]
  },
  {
   "cell_type": "markdown",
   "metadata": {},
   "source": [
    "## Análise Wifi padrão 802.11ac"
   ]
  },
  {
   "cell_type": "markdown",
   "metadata": {},
   "source": [
    "### Análise Very High Throughput (VHT)"
   ]
  },
  {
   "cell_type": "markdown",
   "metadata": {},
   "source": [
    "## Análise Wifi padrão 802.11ax"
   ]
  },
  {
   "cell_type": "markdown",
   "metadata": {},
   "source": [
    "### Análise High Efficiency (HE)"
   ]
  },
  {
   "cell_type": "markdown",
   "metadata": {},
   "source": [
    "## Gráfico Throughput vs. Distância Wifi"
   ]
  }
 ],
 "metadata": {
  "colab": {
   "name": "f01_hd04.ipynb",
   "provenance": [],
   "toc_visible": true,
   "version": "0.3.2"
  },
  "kernelspec": {
   "display_name": "Python 3",
   "language": "python",
   "name": "python3"
  },
  "language_info": {
   "codemirror_mode": {
    "name": "ipython",
    "version": 3
   },
   "file_extension": ".py",
   "mimetype": "text/x-python",
   "name": "python",
   "nbconvert_exporter": "python",
   "pygments_lexer": "ipython3",
   "version": "3.7.1"
  }
 },
 "nbformat": 4,
 "nbformat_minor": 1
}
