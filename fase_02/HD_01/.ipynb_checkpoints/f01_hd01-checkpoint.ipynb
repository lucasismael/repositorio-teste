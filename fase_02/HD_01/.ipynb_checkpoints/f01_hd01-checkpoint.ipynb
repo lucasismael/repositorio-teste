{
 "cells": [
  {
   "cell_type": "markdown",
   "metadata": {
    "colab_type": "text",
    "id": "8Q0-XVZi8V7P"
   },
   "source": [
    "# Hands-on 1: Campanha 0\n",
    "\n",
    "\n",
    "## Objetivos\n",
    " - Investigar o comportamento de diferentes camadas físicas do Wi-Fi com o algoritmos padrão de adaptação de taxa;\n",
    " - Definir a camada física que iremos adotar para os próximos experimentos;\n",
    " - Gerar um gráfico Throughput vs. Distância para cada padrão (uma linha para cada).\n",
    "\n",
    "### Instruções para o hands-on\n",
    " - Usar uma adaptação do rate-adaptation-distance.cc, feito para várias camadas PHY do Wi-Fi. Verificar se a taxa está sendo adaptada de maneira correta;\n",
    " - Gerar um gráfico Throughput vs. Distância (0, 50m, 100m, 150m, 200m e 250m).\n",
    " - Fazer um breve texto sobre cada camada PHY e quais funcionalidades estão implementadas no ns-3;\n",
    " - Só fazer para camadas PHY que tenham o algoritmo de Rate Adaptation implementado;\n",
    " - Explorar o máximo de configurações possíveis de cada camada PHY, por exemplo: channel bouning MIMO, tempo de guarda reduzido (TGI).\n",
    "\n",
    "\n",
    "### Divisão de Tarefas\n",
    "\n",
    "**802.11a** - **Equipe de execução:** Ravan Oliveira (ravan@ufrn.edu.br) e Malco Dantas (malco@ufrn.edu.br);\n",
    "\n",
    "**802.11b** - **Equipe de execução:** Ravan Oliveira (ravan@ufrn.edu.br) e Malco Dantas (malco@ufrn.edu.br);\n",
    "\n",
    "**802.11g** - **Equipe de execução:** Lucas Ismael (lucasismael.gppcom@ufrn.edu.br) e Mateus Batista (mateus.gppcom@ufrn.edu.br);\n",
    "\n",
    "**802.11n** - **Equipe de execução:** Lucas Ismael (lucasismael.gppcom@ufrn.edu.br) e Mateus Batista (mateus.gppcom@ufrn.edu.br);\n",
    "\n",
    "**802.11ac** - **Equipe de execução:** Jéssika Cristina (jessie@ufrn.edu.br);\n",
    "\n",
    "**802.11ax** - **Equipe de execução:** Daniel Flor (danielflor@ufrn.edu.br).\n",
    "\n",
    "**Equipe de revisão:** Daniel Luna (danielro@ufrn.edu.br) e Prof. Vicente Sousa (vicente.sousa@ufrn.edu.br) - **Prazo:** 28/05/2019.\n",
    "\n",
    "#### Versões desse tutorial:\n",
    "- ns-3: 3.29;\n",
    "\n",
    "#### Ultima atualização: 05/2019\n"
   ]
  },
  {
   "cell_type": "markdown",
   "metadata": {
    "colab_type": "text",
    "id": "yb9KX_pn8V7a"
   },
   "source": [
    "## Análise Wifi padrão 802.11a"
   ]
  },
  {
   "cell_type": "markdown",
   "metadata": {
    "colab_type": "text",
    "id": "zgYMKfOH8nBm"
   },
   "source": [
    "## Análise Wifi padrão 802.11b"
   ]
  },
  {
   "cell_type": "markdown",
   "metadata": {},
   "source": [
    "## Análise Wifi padrão 802.11g"
   ]
  },
  {
   "cell_type": "markdown",
   "metadata": {},
   "source": [
    "## Análise Wifi padrão 802.11n"
   ]
  },
  {
   "cell_type": "markdown",
   "metadata": {},
   "source": [
    "## Análise Wifi padrão 802.11ac"
   ]
  },
  {
   "cell_type": "markdown",
   "metadata": {},
   "source": [
    "## Análise Wifi padrão 802.11ax"
   ]
  },
  {
   "cell_type": "markdown",
   "metadata": {},
   "source": [
    "## Gráfico Throughput vs. Distância Wifi"
   ]
  }
 ],
 "metadata": {
  "colab": {
   "name": "f01_hd04.ipynb",
   "provenance": [],
   "toc_visible": true,
   "version": "0.3.2"
  },
  "kernelspec": {
   "display_name": "Python 3",
   "language": "python",
   "name": "python3"
  },
  "language_info": {
   "codemirror_mode": {
    "name": "ipython",
    "version": 3
   },
   "file_extension": ".py",
   "mimetype": "text/x-python",
   "name": "python",
   "nbconvert_exporter": "python",
   "pygments_lexer": "ipython3",
   "version": "3.7.3"
  }
 },
 "nbformat": 4,
 "nbformat_minor": 1
}
