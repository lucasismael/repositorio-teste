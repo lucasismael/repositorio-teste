{
 "cells": [
  {
   "cell_type": "markdown",
   "metadata": {},
   "source": [
    "# IEEE 802.11a\n",
    "O IEEE 802.11a teve seu release publicado em 1999, consegue atingir taxas de ate 32 Mbps utilizando de uma camada física OFDM com intervalo de guarda de 0.8 $\\mu$s e sem suporte a MIMO. \n",
    "<br>Primeiramente copiamos o exemplo  <i>examples/wireless/rate-adaptation-distance.cc</i> para a pasta <i>scracth</i> do sistema e iremos fazer as alteraçoes nesse arquivo.\n",
    "Iremos alterar os parametros conforme as especificações do padrão\n",
    "![main](FIGS/802.11a:1.jpg)\n",
    "O default do arquivo de exemplo está configurado para utilizar o padrão 802.11n-5Ghz com o algoritmo de adaptação de taxa <i>minstrel</i>,porém , como o objetivo do nosso estudo é o IEEE 802.11a iremos alterar os parâmetros:\n",
    "<ul>\n",
    "    <li>staManager de <i>802.11n-5GHz<i> para <i>802.11a</i></li>\n",
    "</ul>\n",
    "O parâmetro <span style='color:green'>outputFileName</span> pode ter qualquer nome, esse nome será usado para gerar um arquivo que será usado posteriormente com o gnuplot para gerar um grafico de taxa de transmissão(throughput) vs Distancia.\n",
    "Uma vez que os parâmetros forem mudados, é preciso salvar o arquivo e executar o utilitário waf para fazer sua compilação.\n",
    "EXECUTE O COMANDO: <i style='color:red'>./waf --run  scratch/rate-adaptation-distance.cc</i>, e aguarde a conclusão da compilação.\n",
    "Na sua pasta principal do sistema (aquela que possui o utilitario waf), foi gerado um arquivo no seguinte formato:<br><br>\n",
    "throughput-<span style='color:green;text-align:center'>outputFileName</span>.plt\n",
    "<br><br>\n",
    "Via terminal, vá ate onde se encontra esse arquivo e digite:<br><br> gnuplot throughput-<span style='color:green'>outputFileName</span>.plt\n",
    "<br><br>\n",
    "Caso seja retornado algum erro ao executar este comando, isso significa que você nao possui o gnuplot instalado. caso este seja seu caso digite o seguinte comando para instalar o gnuplot: <i>sudo apt install gnuplot -y</i>, e rode o comando <i>gnuplot throughput-<span style='color:green'>outputFileName</span>.plt</i> novamente.\n",
    "<br><br>\n",
    "Agora deve existir um arquivo com extensão (.eps) na mesma pasta do utilitario waf,este arquivo pode ser aberto com  um leitor de pdf comum, abaixo o grafico de throughput vs distancia utilizando o <i>ns3::MinstrelHtWifiManager</i><br>\n"
   ]
  },
  {
   "cell_type": "markdown",
   "metadata": {},
   "source": [
    "![result](FIGS/802.11a:2.jpg)"
   ]
  }
 ],
 "metadata": {
  "kernelspec": {
   "display_name": "Python 3",
   "language": "python",
   "name": "python3"
  },
  "language_info": {
   "codemirror_mode": {
    "name": "ipython",
    "version": 3
   },
   "file_extension": ".py",
   "mimetype": "text/x-python",
   "name": "python",
   "nbconvert_exporter": "python",
   "pygments_lexer": "ipython3",
   "version": "3.7.3"
  }
 },
 "nbformat": 4,
 "nbformat_minor": 2
}
