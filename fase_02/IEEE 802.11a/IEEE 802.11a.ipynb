{
 "cells": [
  {
   "cell_type": "markdown",
   "metadata": {},
   "source": [
    "# IEEE 802.11a\n",
    "O IEEE 802.11a teve seu release publicado em 1999, consegue atingir taxas de ate 32 Mbps utilizado de uma camada física OFDM.\n",
    "        Primeiramente copiamos o exemplo  <i>examples/wireless/rate-adaptation-distance.cc</i> para a pasta <i>scracth</i> do sistema e iremos fazer as alteraçoes nesse arquivo.\n",
    "Iremos alterar os parametros conforme as especificações do padrão\n",
    "![main](figs/1.png)\n",
    "O default do arquivo de exemplo está configurado para utilizar o padrão 802.11n-5Ghz com o algoritmo de adaptação de taxa <i>minstrel</i>,porém , como o objetivo do nosso estudo é o IEEE 802.11a iremos alterar os parâmetros:\n",
    "<ul>\n",
    "    <li>staManager de <i>802.11n-5GHz<i> para <i>802.11a</i></li>\n",
    "    <li>apManager de <i>ns3::MinstrelHtWifiManager<i> para <i>ns3::CaraWifiManager</i></li>\n",
    "    <li>standard de <i>ns3::MinstrelHtWifiManager<i> para <i>ns3::CaraWifiManager</i></li>\n",
    "    <li>outputFileName de <i>minstrelHT<i> para <i>cara_plot</i> </li>\n",
    "</ul>\n",
    "O parâmetro <span style='color:green'>outputFileName</span> pode ter qualquer nome, esse nome será usado para gerar um arquivo que será usado posteriormente com o gnuplot para gerar um grafico de taxa de transmissão(throughput) vs Distancia.\n",
    "Uma vez que os parâmetros forem mudados, é preciso salvar o arquivo e executar o utilitário waf para fazer sua compilação.\n",
    "EXECUTE O COMANDO: <i style='color:red'>./waf --run  scratch/rate-adaptation-distance.cc</i>, e aguarde a conclusão da compilação.\n",
    "Na sua pasta principal do sistema (aquela que possui o utilitario waf), foi gerado um arquivo no seguinte formato:<br><br>\n",
    "throughput-<span style='color:green;text-align:center'>outputFileName</span>.plt\n",
    "<br><br>\n",
    "Via terminal, vá ate onde se encontra esse arquivo e digite:<br><br> gnuplot throughput-<span style='color:green'>outputFileName</span>.plt\n",
    "<br><br>\n",
    "Caso seja retornado algum erro ao executar este comando, isso significa que você nao possui o gnuplot instalado. caso este seja seu caso digite o seguinte comando para instalar o gnuplot: <i>sudo apt install gnuplot -y</i>, e rode o comando <i>gnuplot throughput-<span style='color:green'>outputFileName</span>.plt</i> novamente.\n",
    "<br><br>\n",
    "Agora deve existir um arquivo com extensão (.eps) na mesma pasta do utilitario waf,este arquivo pode ser aberto com  um leitor de pdf comum, abaixo o grafico de throughput vs distancia utilizando o <i>ns3::CaraWifiManager</i><br>\n",
    "![cara](figs/cara.jpg)\n",
    "\n",
    "<br><br>\n",
    "Agora vamos repetir o experimento para mecanismo de adaptação de taxa ns3::AarfWifiManager, lembre de mudar tanto na estação quanto no access point, como mudar também o <span style='color:green'>outputFileName</span> para que os arquivos não sejam sobrescritos. abaixo está o gŕafico gerado pelo gnuplot para o segundo experimeto.<br>\n",
    "![aarf](figs/aarf.jpg)"
   ]
  },
  {
   "cell_type": "markdown",
   "metadata": {},
   "source": []
  }
 ],
 "metadata": {
  "kernelspec": {
   "display_name": "Python 3",
   "language": "python",
   "name": "python3"
  },
  "language_info": {
   "codemirror_mode": {
    "name": "ipython",
    "version": 3
   },
   "file_extension": ".py",
   "mimetype": "text/x-python",
   "name": "python",
   "nbconvert_exporter": "python",
   "pygments_lexer": "ipython3",
   "version": "3.7.1"
  }
 },
 "nbformat": 4,
 "nbformat_minor": 2
}
